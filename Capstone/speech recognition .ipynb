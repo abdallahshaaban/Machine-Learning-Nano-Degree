{
 "cells": [
  {
   "cell_type": "code",
   "execution_count": 2,
   "metadata": {},
   "outputs": [
    {
     "ename": "ModuleNotFoundError",
     "evalue": "No module named 'librosa'",
     "output_type": "error",
     "traceback": [
      "\u001b[1;31m---------------------------------------------------------------------------\u001b[0m",
      "\u001b[1;31mModuleNotFoundError\u001b[0m                       Traceback (most recent call last)",
      "\u001b[1;32m<ipython-input-2-66c2296d5964>\u001b[0m in \u001b[0;36m<module>\u001b[1;34m()\u001b[0m\n\u001b[0;32m      1\u001b[0m \u001b[1;32mimport\u001b[0m \u001b[0mnumpy\u001b[0m \u001b[1;32mas\u001b[0m \u001b[0mnp\u001b[0m\u001b[1;33m\u001b[0m\u001b[0m\n\u001b[0;32m      2\u001b[0m \u001b[1;32mimport\u001b[0m \u001b[0mos\u001b[0m\u001b[1;33m\u001b[0m\u001b[0m\n\u001b[1;32m----> 3\u001b[1;33m \u001b[1;32mimport\u001b[0m \u001b[0mlibrosa\u001b[0m\u001b[1;33m\u001b[0m\u001b[0m\n\u001b[0m\u001b[0;32m      4\u001b[0m \u001b[1;32mimport\u001b[0m \u001b[0mmatplotlib\u001b[0m\u001b[1;33m.\u001b[0m\u001b[0mpyplot\u001b[0m \u001b[1;32mas\u001b[0m \u001b[0mplt\u001b[0m\u001b[1;33m\u001b[0m\u001b[0m\n\u001b[0;32m      5\u001b[0m \u001b[1;32mfrom\u001b[0m \u001b[0mscipy\u001b[0m \u001b[1;32mimport\u001b[0m \u001b[0msignal\u001b[0m\u001b[1;33m\u001b[0m\u001b[0m\n",
      "\u001b[1;31mModuleNotFoundError\u001b[0m: No module named 'librosa'"
     ]
    }
   ],
   "source": [
    "import numpy as np\n",
    "import os\n",
    "import librosa\n",
    "import matplotlib.pyplot as plt\n",
    "from scipy import signal\n",
    "from scipy.io import wavfile\n",
    "from sklearn.model_selection import train_test_split\n",
    "import keras\n",
    "from keras.models import Sequential \n",
    "from keras.layers import  Dense, Dropout, Flatten, Conv2D, MaxPooling2D\n",
    "from keras.utils import to_categorical\n",
    "file_path=\"audio\"\n",
    "max_pad_length=40\n",
    "random_state=42"
   ]
  },
  {
   "cell_type": "code",
   "execution_count": 4,
   "metadata": {},
   "outputs": [],
   "source": [
    "def test_wavfile(path=\"audio/go/0d53e045_nohash_1.wav\"):\n",
    "    \n",
    "    sample_rate, samples = wavfile.read(path)\n",
    "    frequencies, times, spectrogram = signal.spectrogram(samples, sample_rate)\n",
    "    plt.pcolormesh(times, frequencies, spectrogram)\n",
    "    plt.imshow(spectrogram)\n",
    "    plt.ylabel('Frequecy [HZ]')\n",
    "    plt.xlabel('Time [sec]')\n",
    "    plt.show()"
   ]
  },
  {
   "cell_type": "code",
   "execution_count": 5,
   "metadata": {},
   "outputs": [],
   "source": [
    "def convert_wave_to_mfcc(filePath):\n",
    "    wav, sr =librosa.load(filePath, mono = True, sr=None)\n",
    "    mfcc = librosa.feature.mfcc(wav, sr=sr)\n",
    "    ##padding\n",
    "    mfcc_feature = np.pad(mfcc, pad_width=((0, 0), (0, max_pad_length - mfcc.shape[1])), mode='constant')\n",
    "    return mfcc_feature"
   ]
  },
  {
   "cell_type": "code",
   "execution_count": 6,
   "metadata": {},
   "outputs": [],
   "source": [
    "def get_labels(path=file_path):\n",
    "    return os.listdir(path)"
   ]
  },
  {
   "cell_type": "code",
   "execution_count": 7,
   "metadata": {},
   "outputs": [],
   "source": [
    "def save_mfcc_files(path=file_path):\n",
    "    labels = get_labels(path)\n",
    "    #print(labels)\n",
    "    for label in labels:\n",
    "        mfcc_features=[]\n",
    "        audfiles=[path+'/'+label+'/'+aud for aud in os.listdir(path+'/'+label)]\n",
    "        for audio in audfiles:\n",
    "            mfcc_features.append(convert_wave_to_mfcc(audio))\n",
    "        #print(len(mfcc_vectors))\n",
    "        np.save(label+'.npy', mfcc_features)"
   ]
  },
  {
   "cell_type": "code",
   "execution_count": null,
   "metadata": {},
   "outputs": [],
   "source": []
  },
  {
   "cell_type": "code",
   "execution_count": 30,
   "metadata": {},
   "outputs": [],
   "source": [
    "def generate_training_testing_set(path=file_path,test_size=.4):\n",
    "    labels = get_labels(path)\n",
    "    #features=[]\n",
    "    features=np.load(labels[0]+'.npy')\n",
    "    classes=np.zeros(features.shape[0])\n",
    "    #for i,label in zip(range(0,len(labels)-1),labels):\n",
    "    for i in range(1,len(labels)):\n",
    "        x=np.load(labels[i]+'.npy')\n",
    "        features=np.vstack((features,x))\n",
    "        classes=np.append(classes, np.full(x.shape[0], fill_value= (i)))\n",
    "    return train_test_split(features, classes, test_size= test_size, random_state=random_state, shuffle=True)"
   ]
  },
  {
   "cell_type": "code",
   "execution_count": 36,
   "metadata": {},
   "outputs": [
    {
     "name": "stdout",
     "output_type": "stream",
     "text": [
      "(14574, 20, 40)\n"
     ]
    }
   ],
   "source": [
    "X_train, X_test, y_train, y_test = generate_training_testing_set()\n",
    "print(X_train.shape)\n",
    "model =Sequential()\n",
    "model.add(Conv2D(64,kernel_size=(2,2),activation='relu',input_shape=(20,40,1)))\n",
    "model.add(MaxPooling2D(pool_size=(2,2),strides=1,padding='same'))\n",
    "model.add(Dropout(.2))\n",
    "model.add(Flatten())\n",
    "model.add(Dense(128,activation='relu'))\n",
    "model.add(Dropout(.2))\n",
    "model.add(Dense(11,activation='softmax'))\n",
    "model.compile(loss=keras.losses.categorical_crossentropy,optimizer=keras.optimizers.Adadelta(),\n",
    "              metrics=['accuracy'])\n"
   ]
  },
  {
   "cell_type": "code",
   "execution_count": null,
   "metadata": {},
   "outputs": [],
   "source": []
  },
  {
   "cell_type": "code",
   "execution_count": 38,
   "metadata": {
    "scrolled": false
   },
   "outputs": [
    {
     "name": "stdout",
     "output_type": "stream",
     "text": [
      "Train on 10201 samples, validate on 4373 samples\n",
      "Epoch 1/100\n",
      "10201/10201 [==============================] - 3s 265us/step - loss: 1.5830 - acc: 0.4377 - val_loss: 1.6175 - val_acc: 0.4558\n",
      "Epoch 2/100\n",
      "10201/10201 [==============================] - 3s 255us/step - loss: 1.5430 - acc: 0.4463 - val_loss: 1.4222 - val_acc: 0.5106\n",
      "Epoch 3/100\n",
      "10201/10201 [==============================] - 3s 253us/step - loss: 1.5045 - acc: 0.4618 - val_loss: 1.4120 - val_acc: 0.5422\n",
      "Epoch 4/100\n",
      "10201/10201 [==============================] - 3s 253us/step - loss: 1.4504 - acc: 0.4747 - val_loss: 1.5025 - val_acc: 0.5054\n",
      "Epoch 5/100\n",
      "10201/10201 [==============================] - 3s 252us/step - loss: 1.4167 - acc: 0.4911 - val_loss: 1.4002 - val_acc: 0.5362\n",
      "Epoch 6/100\n",
      "10201/10201 [==============================] - 3s 252us/step - loss: 1.3798 - acc: 0.5009 - val_loss: 1.3832 - val_acc: 0.5413\n",
      "Epoch 7/100\n",
      "10201/10201 [==============================] - 3s 252us/step - loss: 1.3273 - acc: 0.5190 - val_loss: 1.3140 - val_acc: 0.5678\n",
      "Epoch 8/100\n",
      "10201/10201 [==============================] - 3s 253us/step - loss: 1.2635 - acc: 0.5390 - val_loss: 1.2824 - val_acc: 0.5861\n",
      "Epoch 9/100\n",
      "10201/10201 [==============================] - 3s 253us/step - loss: 1.2378 - acc: 0.5498 - val_loss: 1.2341 - val_acc: 0.5856\n",
      "Epoch 10/100\n",
      "10201/10201 [==============================] - 3s 255us/step - loss: 1.1724 - acc: 0.5710 - val_loss: 1.2302 - val_acc: 0.6000\n",
      "Epoch 11/100\n",
      "10201/10201 [==============================] - 3s 253us/step - loss: 1.1479 - acc: 0.5804 - val_loss: 1.0409 - val_acc: 0.6501\n",
      "Epoch 12/100\n",
      "10201/10201 [==============================] - 3s 252us/step - loss: 1.1118 - acc: 0.5922 - val_loss: 1.1176 - val_acc: 0.6048\n",
      "Epoch 13/100\n",
      "10201/10201 [==============================] - 3s 252us/step - loss: 1.0591 - acc: 0.6110 - val_loss: 1.1514 - val_acc: 0.6222\n",
      "Epoch 14/100\n",
      "10201/10201 [==============================] - 3s 253us/step - loss: 1.0530 - acc: 0.6154 - val_loss: 1.1099 - val_acc: 0.6122\n",
      "Epoch 15/100\n",
      "10201/10201 [==============================] - 3s 252us/step - loss: 1.0229 - acc: 0.6202 - val_loss: 0.9928 - val_acc: 0.6707\n",
      "Epoch 16/100\n",
      "10201/10201 [==============================] - 3s 251us/step - loss: 0.9903 - acc: 0.6348 - val_loss: 0.9763 - val_acc: 0.6693\n",
      "Epoch 17/100\n",
      "10201/10201 [==============================] - 3s 251us/step - loss: 0.9472 - acc: 0.6528 - val_loss: 0.8967 - val_acc: 0.6972\n",
      "Epoch 18/100\n",
      "10201/10201 [==============================] - 3s 251us/step - loss: 0.9151 - acc: 0.6627 - val_loss: 0.9506 - val_acc: 0.6760\n",
      "Epoch 19/100\n",
      "10201/10201 [==============================] - 3s 252us/step - loss: 0.9113 - acc: 0.6633 - val_loss: 0.9980 - val_acc: 0.6593\n",
      "Epoch 20/100\n",
      "10201/10201 [==============================] - 3s 252us/step - loss: 0.8818 - acc: 0.6733 - val_loss: 0.8796 - val_acc: 0.7007\n",
      "Epoch 21/100\n",
      "10201/10201 [==============================] - 3s 251us/step - loss: 0.8557 - acc: 0.6848 - val_loss: 0.8947 - val_acc: 0.7007\n",
      "Epoch 22/100\n",
      "10201/10201 [==============================] - 3s 252us/step - loss: 0.8149 - acc: 0.6997 - val_loss: 0.8786 - val_acc: 0.7135\n",
      "Epoch 23/100\n",
      "10201/10201 [==============================] - 3s 253us/step - loss: 0.8036 - acc: 0.7086 - val_loss: 0.8600 - val_acc: 0.7130\n",
      "Epoch 24/100\n",
      "10201/10201 [==============================] - 3s 252us/step - loss: 0.7963 - acc: 0.7102 - val_loss: 0.9086 - val_acc: 0.6977\n",
      "Epoch 25/100\n",
      "10201/10201 [==============================] - 3s 251us/step - loss: 0.7618 - acc: 0.7193 - val_loss: 0.8542 - val_acc: 0.7281\n",
      "Epoch 26/100\n",
      "10201/10201 [==============================] - 3s 251us/step - loss: 0.7593 - acc: 0.7197 - val_loss: 0.8469 - val_acc: 0.7148\n",
      "Epoch 27/100\n",
      "10201/10201 [==============================] - 3s 252us/step - loss: 0.7226 - acc: 0.7352 - val_loss: 0.8472 - val_acc: 0.7171\n",
      "Epoch 28/100\n",
      "10201/10201 [==============================] - 3s 252us/step - loss: 0.7376 - acc: 0.7325 - val_loss: 0.9893 - val_acc: 0.6995\n",
      "Epoch 29/100\n",
      "10201/10201 [==============================] - 3s 251us/step - loss: 0.7132 - acc: 0.7391 - val_loss: 0.8642 - val_acc: 0.7112\n",
      "Epoch 30/100\n",
      "10201/10201 [==============================] - 3s 251us/step - loss: 0.6686 - acc: 0.7581 - val_loss: 0.8763 - val_acc: 0.7263\n",
      "Epoch 31/100\n",
      "10201/10201 [==============================] - 3s 251us/step - loss: 0.6772 - acc: 0.7541 - val_loss: 0.8816 - val_acc: 0.7251\n",
      "Epoch 32/100\n",
      "10201/10201 [==============================] - 3s 250us/step - loss: 0.6450 - acc: 0.7652 - val_loss: 0.8836 - val_acc: 0.7206\n",
      "Epoch 33/100\n",
      "10201/10201 [==============================] - 3s 251us/step - loss: 0.6227 - acc: 0.7760 - val_loss: 0.9361 - val_acc: 0.7041\n",
      "Epoch 34/100\n",
      "10201/10201 [==============================] - 3s 252us/step - loss: 0.6183 - acc: 0.7798 - val_loss: 0.8593 - val_acc: 0.7379\n",
      "Epoch 35/100\n",
      "10201/10201 [==============================] - 3s 252us/step - loss: 0.5912 - acc: 0.7851 - val_loss: 0.8445 - val_acc: 0.7379\n",
      "Epoch 36/100\n",
      "10201/10201 [==============================] - 3s 254us/step - loss: 0.5870 - acc: 0.7920 - val_loss: 0.7680 - val_acc: 0.7663\n",
      "Epoch 37/100\n",
      "10201/10201 [==============================] - 3s 253us/step - loss: 0.5545 - acc: 0.7983 - val_loss: 0.8867 - val_acc: 0.7265\n",
      "Epoch 38/100\n",
      "10201/10201 [==============================] - 3s 254us/step - loss: 0.5655 - acc: 0.7942 - val_loss: 0.7771 - val_acc: 0.7567\n",
      "Epoch 39/100\n",
      "10201/10201 [==============================] - 3s 253us/step - loss: 0.5368 - acc: 0.7994 - val_loss: 0.8068 - val_acc: 0.7528\n",
      "Epoch 40/100\n",
      "10201/10201 [==============================] - 3s 252us/step - loss: 0.5180 - acc: 0.8151 - val_loss: 0.8108 - val_acc: 0.7576\n",
      "Epoch 41/100\n",
      "10201/10201 [==============================] - 3s 253us/step - loss: 0.5269 - acc: 0.8105 - val_loss: 0.9459 - val_acc: 0.7185\n",
      "Epoch 42/100\n",
      "10201/10201 [==============================] - 3s 255us/step - loss: 0.4981 - acc: 0.8208 - val_loss: 0.9147 - val_acc: 0.7199\n",
      "Epoch 43/100\n",
      "10201/10201 [==============================] - 3s 253us/step - loss: 0.5084 - acc: 0.8190 - val_loss: 0.8078 - val_acc: 0.7587\n",
      "Epoch 44/100\n",
      "10201/10201 [==============================] - 3s 252us/step - loss: 0.4868 - acc: 0.8249 - val_loss: 0.8739 - val_acc: 0.7489\n",
      "Epoch 45/100\n",
      "10201/10201 [==============================] - 3s 254us/step - loss: 0.4595 - acc: 0.8345 - val_loss: 0.8457 - val_acc: 0.7560\n",
      "Epoch 46/100\n",
      "10201/10201 [==============================] - 3s 252us/step - loss: 0.4649 - acc: 0.8335 - val_loss: 0.9235 - val_acc: 0.7201\n",
      "Epoch 47/100\n",
      "10201/10201 [==============================] - 3s 253us/step - loss: 0.4542 - acc: 0.8348 - val_loss: 0.8227 - val_acc: 0.7645\n",
      "Epoch 48/100\n",
      "10201/10201 [==============================] - 3s 253us/step - loss: 0.4401 - acc: 0.8427 - val_loss: 0.7630 - val_acc: 0.7601\n",
      "Epoch 49/100\n",
      "10201/10201 [==============================] - 3s 252us/step - loss: 0.4310 - acc: 0.8503 - val_loss: 0.7927 - val_acc: 0.7716\n",
      "Epoch 50/100\n",
      "10201/10201 [==============================] - 3s 252us/step - loss: 0.4196 - acc: 0.8549 - val_loss: 0.7924 - val_acc: 0.7645\n",
      "Epoch 51/100\n",
      "10201/10201 [==============================] - 3s 253us/step - loss: 0.4221 - acc: 0.8476 - val_loss: 0.7817 - val_acc: 0.7732\n",
      "Epoch 52/100\n",
      "10201/10201 [==============================] - 3s 253us/step - loss: 0.3999 - acc: 0.8611 - val_loss: 0.7918 - val_acc: 0.7796\n",
      "Epoch 53/100\n",
      "10201/10201 [==============================] - 3s 253us/step - loss: 0.4083 - acc: 0.8541 - val_loss: 0.8898 - val_acc: 0.7535\n",
      "Epoch 54/100\n",
      "10201/10201 [==============================] - 3s 253us/step - loss: 0.3911 - acc: 0.8643 - val_loss: 0.8227 - val_acc: 0.7754\n",
      "Epoch 55/100\n",
      "10201/10201 [==============================] - 3s 253us/step - loss: 0.3752 - acc: 0.8681 - val_loss: 0.8645 - val_acc: 0.7619\n",
      "Epoch 56/100\n",
      "10201/10201 [==============================] - 3s 256us/step - loss: 0.3874 - acc: 0.8629 - val_loss: 0.7828 - val_acc: 0.7647\n",
      "Epoch 57/100\n",
      "10201/10201 [==============================] - 3s 254us/step - loss: 0.3588 - acc: 0.8716 - val_loss: 0.8346 - val_acc: 0.7796\n",
      "Epoch 58/100\n",
      "10201/10201 [==============================] - 3s 254us/step - loss: 0.3649 - acc: 0.8756 - val_loss: 0.8163 - val_acc: 0.7729\n",
      "Epoch 59/100\n",
      "10201/10201 [==============================] - 3s 254us/step - loss: 0.3448 - acc: 0.8798 - val_loss: 0.7573 - val_acc: 0.7860\n",
      "Epoch 60/100\n",
      "10201/10201 [==============================] - 3s 253us/step - loss: 0.3546 - acc: 0.8793 - val_loss: 0.9030 - val_acc: 0.7546\n",
      "Epoch 61/100\n",
      "10201/10201 [==============================] - 3s 254us/step - loss: 0.3397 - acc: 0.8799 - val_loss: 0.8820 - val_acc: 0.7629\n",
      "Epoch 62/100\n",
      "10201/10201 [==============================] - 3s 253us/step - loss: 0.3456 - acc: 0.8799 - val_loss: 0.7609 - val_acc: 0.7887\n",
      "Epoch 63/100\n",
      "10201/10201 [==============================] - 3s 252us/step - loss: 0.3354 - acc: 0.8837 - val_loss: 0.8798 - val_acc: 0.7690\n",
      "Epoch 64/100\n",
      "10201/10201 [==============================] - 3s 254us/step - loss: 0.3405 - acc: 0.8805 - val_loss: 0.7857 - val_acc: 0.7814\n",
      "Epoch 65/100\n",
      "10201/10201 [==============================] - 3s 255us/step - loss: 0.3286 - acc: 0.8875 - val_loss: 0.7892 - val_acc: 0.7821\n",
      "Epoch 66/100\n",
      "10201/10201 [==============================] - 3s 254us/step - loss: 0.3180 - acc: 0.8900 - val_loss: 0.9237 - val_acc: 0.7645\n",
      "Epoch 67/100\n",
      "10201/10201 [==============================] - 3s 253us/step - loss: 0.2928 - acc: 0.8980 - val_loss: 0.8450 - val_acc: 0.7768\n",
      "Epoch 68/100\n",
      "10201/10201 [==============================] - 3s 253us/step - loss: 0.3034 - acc: 0.8969 - val_loss: 0.8199 - val_acc: 0.7798\n",
      "Epoch 69/100\n",
      "10201/10201 [==============================] - 3s 254us/step - loss: 0.3068 - acc: 0.8905 - val_loss: 0.9570 - val_acc: 0.7565\n",
      "Epoch 70/100\n",
      "10201/10201 [==============================] - 3s 254us/step - loss: 0.2884 - acc: 0.8970 - val_loss: 0.8454 - val_acc: 0.7681\n",
      "Epoch 71/100\n",
      "10201/10201 [==============================] - 3s 252us/step - loss: 0.3060 - acc: 0.8949 - val_loss: 0.8409 - val_acc: 0.7757\n",
      "Epoch 72/100\n",
      "10201/10201 [==============================] - 3s 253us/step - loss: 0.2880 - acc: 0.8967 - val_loss: 0.9125 - val_acc: 0.7702\n",
      "Epoch 73/100\n",
      "10201/10201 [==============================] - 3s 254us/step - loss: 0.2893 - acc: 0.8981 - val_loss: 0.8502 - val_acc: 0.7754\n",
      "Epoch 74/100\n",
      "10201/10201 [==============================] - 3s 254us/step - loss: 0.2911 - acc: 0.8988 - val_loss: 0.8134 - val_acc: 0.7798\n",
      "Epoch 75/100\n",
      "10201/10201 [==============================] - 3s 253us/step - loss: 0.2819 - acc: 0.9025 - val_loss: 0.8337 - val_acc: 0.7777\n",
      "Epoch 76/100\n",
      "10201/10201 [==============================] - 3s 254us/step - loss: 0.2833 - acc: 0.9024 - val_loss: 0.9180 - val_acc: 0.7558\n",
      "Epoch 77/100\n",
      "10201/10201 [==============================] - 3s 254us/step - loss: 0.2673 - acc: 0.9076 - val_loss: 0.9180 - val_acc: 0.7661\n",
      "Epoch 78/100\n",
      "10201/10201 [==============================] - 3s 253us/step - loss: 0.2663 - acc: 0.9079 - val_loss: 0.8459 - val_acc: 0.7910\n",
      "Epoch 79/100\n",
      "10201/10201 [==============================] - 3s 254us/step - loss: 0.2812 - acc: 0.9010 - val_loss: 0.8315 - val_acc: 0.7830\n",
      "Epoch 80/100\n",
      "10201/10201 [==============================] - 3s 253us/step - loss: 0.2571 - acc: 0.9078 - val_loss: 0.8633 - val_acc: 0.7791\n",
      "Epoch 81/100\n",
      "10201/10201 [==============================] - 3s 253us/step - loss: 0.2661 - acc: 0.9050 - val_loss: 0.8868 - val_acc: 0.7837\n",
      "Epoch 82/100\n",
      "10201/10201 [==============================] - 3s 254us/step - loss: 0.2583 - acc: 0.9117 - val_loss: 0.8401 - val_acc: 0.7832\n",
      "Epoch 83/100\n",
      "10201/10201 [==============================] - 3s 253us/step - loss: 0.2503 - acc: 0.9130 - val_loss: 0.9499 - val_acc: 0.7704\n",
      "Epoch 84/100\n",
      "10201/10201 [==============================] - 3s 253us/step - loss: 0.2544 - acc: 0.9116 - val_loss: 0.8385 - val_acc: 0.7839\n",
      "Epoch 85/100\n",
      "10201/10201 [==============================] - 3s 253us/step - loss: 0.2515 - acc: 0.9158 - val_loss: 0.8715 - val_acc: 0.7791\n",
      "Epoch 86/100\n",
      "10201/10201 [==============================] - 3s 254us/step - loss: 0.2390 - acc: 0.9177 - val_loss: 0.8796 - val_acc: 0.7807\n",
      "Epoch 87/100\n",
      "10201/10201 [==============================] - 3s 254us/step - loss: 0.2486 - acc: 0.9125 - val_loss: 0.8389 - val_acc: 0.7828\n",
      "Epoch 88/100\n",
      "10201/10201 [==============================] - 3s 254us/step - loss: 0.2293 - acc: 0.9186 - val_loss: 0.8541 - val_acc: 0.7839\n",
      "Epoch 89/100\n",
      "10201/10201 [==============================] - 3s 253us/step - loss: 0.2416 - acc: 0.9179 - val_loss: 0.9171 - val_acc: 0.7892\n",
      "Epoch 90/100\n",
      "10201/10201 [==============================] - 3s 254us/step - loss: 0.2462 - acc: 0.9145 - val_loss: 0.9197 - val_acc: 0.7752\n",
      "Epoch 91/100\n",
      "10201/10201 [==============================] - 3s 254us/step - loss: 0.2231 - acc: 0.9226 - val_loss: 0.8752 - val_acc: 0.7848\n",
      "Epoch 92/100\n",
      "10201/10201 [==============================] - 3s 253us/step - loss: 0.2253 - acc: 0.9189 - val_loss: 1.0565 - val_acc: 0.7711\n",
      "Epoch 93/100\n",
      "10201/10201 [==============================] - 3s 254us/step - loss: 0.2232 - acc: 0.9216 - val_loss: 0.9008 - val_acc: 0.7830\n",
      "Epoch 94/100\n",
      "10201/10201 [==============================] - 3s 253us/step - loss: 0.2213 - acc: 0.9218 - val_loss: 0.9119 - val_acc: 0.7796\n",
      "Epoch 95/100\n",
      "10201/10201 [==============================] - 3s 253us/step - loss: 0.2145 - acc: 0.9274 - val_loss: 0.9610 - val_acc: 0.7809\n",
      "Epoch 96/100\n",
      "10201/10201 [==============================] - 3s 254us/step - loss: 0.2203 - acc: 0.9240 - val_loss: 0.9600 - val_acc: 0.7777\n",
      "Epoch 97/100\n",
      "10201/10201 [==============================] - 3s 253us/step - loss: 0.2019 - acc: 0.9318 - val_loss: 0.9790 - val_acc: 0.7656\n",
      "Epoch 98/100\n",
      "10201/10201 [==============================] - 3s 254us/step - loss: 0.2030 - acc: 0.9302 - val_loss: 0.9487 - val_acc: 0.7784\n",
      "Epoch 99/100\n",
      "10201/10201 [==============================] - 3s 254us/step - loss: 0.2157 - acc: 0.9257 - val_loss: 0.9103 - val_acc: 0.7789\n",
      "Epoch 100/100\n",
      "10201/10201 [==============================] - 3s 253us/step - loss: 0.2001 - acc: 0.9311 - val_loss: 0.9446 - val_acc: 0.7821\n"
     ]
    },
    {
     "data": {
      "text/plain": [
       "<keras.callbacks.History at 0x7fcd88de5da0>"
      ]
     },
     "execution_count": 38,
     "metadata": {},
     "output_type": "execute_result"
    }
   ],
   "source": [
    "model.fit(X_train.reshape(X_train.shape[0],20,40,1), to_categorical(y_train), batch_size=128, epochs=100, verbose=1,validation_split=0.3 )"
   ]
  },
  {
   "cell_type": "code",
   "execution_count": 1,
   "metadata": {},
   "outputs": [
    {
     "ename": "NameError",
     "evalue": "name 'model' is not defined",
     "output_type": "error",
     "traceback": [
      "\u001b[1;31m---------------------------------------------------------------------------\u001b[0m",
      "\u001b[1;31mNameError\u001b[0m                                 Traceback (most recent call last)",
      "\u001b[1;32m<ipython-input-1-8e534c403ae6>\u001b[0m in \u001b[0;36m<module>\u001b[1;34m()\u001b[0m\n\u001b[1;32m----> 1\u001b[1;33m \u001b[0my_predicted\u001b[0m\u001b[1;33m=\u001b[0m\u001b[0mmodel\u001b[0m\u001b[1;33m.\u001b[0m\u001b[0mpredict\u001b[0m\u001b[1;33m(\u001b[0m\u001b[0mX_test\u001b[0m\u001b[1;33m.\u001b[0m\u001b[0mreshape\u001b[0m\u001b[1;33m(\u001b[0m\u001b[0mX_test\u001b[0m\u001b[1;33m.\u001b[0m\u001b[0mshape\u001b[0m\u001b[1;33m[\u001b[0m\u001b[1;36m0\u001b[0m\u001b[1;33m]\u001b[0m\u001b[1;33m,\u001b[0m\u001b[1;36m20\u001b[0m\u001b[1;33m,\u001b[0m\u001b[1;36m40\u001b[0m\u001b[1;33m,\u001b[0m\u001b[1;36m1\u001b[0m\u001b[1;33m)\u001b[0m\u001b[1;33m)\u001b[0m\u001b[1;33m\u001b[0m\u001b[0m\n\u001b[0m\u001b[0;32m      2\u001b[0m \u001b[0mb\u001b[0m \u001b[1;33m=\u001b[0m \u001b[0mnp\u001b[0m\u001b[1;33m.\u001b[0m\u001b[0mzeros_like\u001b[0m\u001b[1;33m(\u001b[0m\u001b[0my_test\u001b[0m\u001b[1;33m)\u001b[0m\u001b[1;33m\u001b[0m\u001b[0m\n\u001b[0;32m      3\u001b[0m \u001b[0mb\u001b[0m\u001b[1;33m[\u001b[0m\u001b[0mrange\u001b[0m\u001b[1;33m(\u001b[0m\u001b[0mlen\u001b[0m\u001b[1;33m(\u001b[0m\u001b[0my_predicted\u001b[0m\u001b[1;33m)\u001b[0m\u001b[1;33m)\u001b[0m\u001b[1;33m,\u001b[0m \u001b[0my_predicted\u001b[0m\u001b[1;33m.\u001b[0m\u001b[0margmax\u001b[0m\u001b[1;33m(\u001b[0m\u001b[1;36m1\u001b[0m\u001b[1;33m)\u001b[0m\u001b[1;33m]\u001b[0m \u001b[1;33m=\u001b[0m \u001b[1;36m1\u001b[0m\u001b[1;33m\u001b[0m\u001b[0m\n\u001b[0;32m      4\u001b[0m \u001b[0mprint\u001b[0m\u001b[1;33m(\u001b[0m\u001b[0mb\u001b[0m\u001b[1;33m[\u001b[0m\u001b[1;36m0\u001b[0m\u001b[1;33m]\u001b[0m\u001b[1;33m)\u001b[0m\u001b[1;33m\u001b[0m\u001b[0m\n",
      "\u001b[1;31mNameError\u001b[0m: name 'model' is not defined"
     ]
    }
   ],
   "source": [
    "y_predicted=model.predict(X_test.reshape(X_test.shape[0],20,40,1))\n",
    "b = np.zeros_like(y_test)\n",
    "b[range(len(y_predicted)), y_predicted.argmax(1)] = 1\n",
    "print(b[0])"
   ]
  },
  {
   "cell_type": "code",
   "execution_count": null,
   "metadata": {},
   "outputs": [],
   "source": []
  }
 ],
 "metadata": {
  "kernelspec": {
   "display_name": "Python 3",
   "language": "python",
   "name": "python3"
  },
  "language_info": {
   "codemirror_mode": {
    "name": "ipython",
    "version": 3
   },
   "file_extension": ".py",
   "mimetype": "text/x-python",
   "name": "python",
   "nbconvert_exporter": "python",
   "pygments_lexer": "ipython3",
   "version": "3.6.5"
  }
 },
 "nbformat": 4,
 "nbformat_minor": 2
}
